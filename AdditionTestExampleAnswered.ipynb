{
 "cells": [
  {
   "cell_type": "code",
   "execution_count": null,
   "id": "c8e6c733",
   "metadata": {},
   "outputs": [],
   "source": [
    "# Write a program which proctors a math test for addition\n",
    "# The program should ask 3 questions which are addition problems using random numbers between 0 and 10\n",
    "# if the question is gotten wrong, it should print \"WRONG\". Otherwise \"CORRECT\"\n",
    "\n",
    "# import the python library, random\n",
    "# use the function randint() from the random library to generate a random number between 0 and 10\n",
    "# random.randint(0, 10)\n",
    "# https://docs.python.org/3/library/random.html#random.randint"
   ]
  },
  {
   "cell_type": "code",
   "execution_count": null,
   "id": "f8136b20",
   "metadata": {},
   "outputs": [],
   "source": [
    "import random"
   ]
  },
  {
   "cell_type": "code",
   "execution_count": null,
   "id": "15290c6f",
   "metadata": {},
   "outputs": [],
   "source": [
    "for i in range(3):\n",
    "    a = random.randint(0, 10)\n",
    "    b = random.randint(0, 10)\n",
    "    c = a + b\n",
    "    \n",
    "    user_answer = input(f\"{a} + {b} = \")\n",
    "    user_answer = int(user_answer)\n",
    "    \n",
    "    if user_answer == c:\n",
    "        print(\"CORRECT\")\n",
    "    else:\n",
    "        print(\"WRONG\")"
   ]
  },
  {
   "cell_type": "code",
   "execution_count": null,
   "id": "fa71fec0",
   "metadata": {},
   "outputs": [],
   "source": []
  }
 ],
 "metadata": {
  "kernelspec": {
   "display_name": "Python 3 (ipykernel)",
   "language": "python",
   "name": "python3"
  },
  "language_info": {
   "codemirror_mode": {
    "name": "ipython",
    "version": 3
   },
   "file_extension": ".py",
   "mimetype": "text/x-python",
   "name": "python",
   "nbconvert_exporter": "python",
   "pygments_lexer": "ipython3",
   "version": "3.8.9"
  }
 },
 "nbformat": 4,
 "nbformat_minor": 5
}
