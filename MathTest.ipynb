{
 "cells": [
  {
   "cell_type": "code",
   "execution_count": 1,
   "id": "8b7e7eda",
   "metadata": {},
   "outputs": [],
   "source": [
    "import random"
   ]
  },
  {
   "cell_type": "code",
   "execution_count": 2,
   "id": "e12f4a11",
   "metadata": {},
   "outputs": [],
   "source": [
    "def get_random_nums():\n",
    "    a = random.randint(1, 10)\n",
    "    b = random.randint(1, 10)\n",
    "    return (a, b)"
   ]
  },
  {
   "cell_type": "code",
   "execution_count": 3,
   "id": "6ee470c0",
   "metadata": {},
   "outputs": [],
   "source": [
    "def modulo_test_question(a, b):\n",
    "    answer = a % b\n",
    "    question = f\"{a} % {b} = \"\n",
    "    return (question, answer)"
   ]
  },
  {
   "cell_type": "code",
   "execution_count": 4,
   "id": "1464f3cb",
   "metadata": {},
   "outputs": [],
   "source": [
    "def floor_division_test_question(a, b):\n",
    "    answer = a // b\n",
    "    question = f\"{a} // {b} = \"\n",
    "    return (question, answer)"
   ]
  },
  {
   "cell_type": "code",
   "execution_count": 5,
   "id": "87c04b55",
   "metadata": {},
   "outputs": [],
   "source": [
    "def ask_question(question, answer):\n",
    "    user_answer = input(question)\n",
    "    right_or_wrong = str(answer) == user_answer\n",
    "    return right_or_wrong"
   ]
  },
  {
   "cell_type": "code",
   "execution_count": 6,
   "id": "0843e285",
   "metadata": {},
   "outputs": [],
   "source": [
    "# a, b = get_random_nums()\n",
    "# question, answer = modulo_test_question(a, b)\n",
    "# ask_question(question, answer)"
   ]
  },
  {
   "cell_type": "code",
   "execution_count": 7,
   "id": "b8a619aa",
   "metadata": {},
   "outputs": [],
   "source": [
    "def proctor_question(question_function):\n",
    "    a, b = get_random_nums()\n",
    "    question, answer = question_function(a, b)\n",
    "    right_or_wrong = ask_question(question, answer)\n",
    "    return right_or_wrong"
   ]
  },
  {
   "cell_type": "code",
   "execution_count": 8,
   "id": "33b4ddcb",
   "metadata": {},
   "outputs": [],
   "source": [
    "# proctor_question(modulo_test_question)"
   ]
  },
  {
   "cell_type": "code",
   "execution_count": null,
   "id": "5bee200d",
   "metadata": {},
   "outputs": [],
   "source": [
    "user_playing = True\n",
    "# TODO: functionalize this\n",
    "test_type = input('Test Type? (%, //) ')\n",
    "question_counter = 0\n",
    "correct_counter = 0\n",
    "\n",
    "while user_playing:\n",
    "    for i in range(5):\n",
    "        question_counter += 1\n",
    "        if test_type == '%':\n",
    "            question_function = modulo_test_question\n",
    "        elif test_type == \"//\":\n",
    "            question_function = floor_division_test_question\n",
    "        right_or_wrong = proctor_question(question_function)\n",
    "        if right_or_wrong:\n",
    "            correct_counter += 1\n",
    "    go_again = input('Go Again (y, n)?')\n",
    "    if go_again == 'n':\n",
    "        user_playing = False\n",
    "else:\n",
    "    print(correct_counter/question_counter * 100)"
   ]
  },
  {
   "cell_type": "code",
   "execution_count": null,
   "id": "333ac556",
   "metadata": {},
   "outputs": [],
   "source": []
  }
 ],
 "metadata": {
  "kernelspec": {
   "display_name": "Python 3 (ipykernel)",
   "language": "python",
   "name": "python3"
  },
  "language_info": {
   "codemirror_mode": {
    "name": "ipython",
    "version": 3
   },
   "file_extension": ".py",
   "mimetype": "text/x-python",
   "name": "python",
   "nbconvert_exporter": "python",
   "pygments_lexer": "ipython3",
   "version": "3.9.7"
  }
 },
 "nbformat": 4,
 "nbformat_minor": 5
}
